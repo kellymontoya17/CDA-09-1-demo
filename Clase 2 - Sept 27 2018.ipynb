{
 "cells": [
  {
   "cell_type": "code",
   "execution_count": 1,
   "metadata": {},
   "outputs": [],
   "source": [
    "#IF"
   ]
  },
  {
   "cell_type": "code",
   "execution_count": 2,
   "metadata": {},
   "outputs": [],
   "source": [
    "# Forma larga\n",
    "a=1\n",
    "\n",
    "if a==1:\n",
    "    x=1\n",
    "else:\n",
    "    x=0"
   ]
  },
  {
   "cell_type": "code",
   "execution_count": 3,
   "metadata": {},
   "outputs": [
    {
     "name": "stdout",
     "output_type": "stream",
     "text": [
      "1\n"
     ]
    }
   ],
   "source": [
    "print(x)"
   ]
  },
  {
   "cell_type": "code",
   "execution_count": 4,
   "metadata": {},
   "outputs": [],
   "source": [
    "x=10 if 1 else 20"
   ]
  },
  {
   "cell_type": "code",
   "execution_count": 5,
   "metadata": {},
   "outputs": [
    {
     "name": "stdout",
     "output_type": "stream",
     "text": [
      "10\n"
     ]
    }
   ],
   "source": [
    "print(x)"
   ]
  },
  {
   "cell_type": "code",
   "execution_count": 6,
   "metadata": {},
   "outputs": [
    {
     "data": {
      "text/plain": [
       "[0, 1, 2, 3]"
      ]
     },
     "execution_count": 6,
     "metadata": {},
     "output_type": "execute_result"
    }
   ],
   "source": [
    "# presentar cada elemento de la lista\n",
    "list(range(4))"
   ]
  },
  {
   "cell_type": "code",
   "execution_count": 7,
   "metadata": {},
   "outputs": [
    {
     "name": "stdout",
     "output_type": "stream",
     "text": [
      "cat\n",
      "window\n",
      "door\n",
      "abcdefg\n"
     ]
    }
   ],
   "source": [
    "# Muestra las palabras en la lista words\n",
    "words = ['cat', 'window', 'door', 'abcdefg']\n",
    "for n in range(len(words)):\n",
    "    print(words[n])"
   ]
  },
  {
   "cell_type": "code",
   "execution_count": 8,
   "metadata": {},
   "outputs": [
    {
     "data": {
      "text/plain": [
       "['abcdefg', 'cat', 'window', 'door', 'abcdefg']"
      ]
     },
     "execution_count": 8,
     "metadata": {},
     "output_type": "execute_result"
    }
   ],
   "source": [
    "for w in words[:]:  # words[:] genera una nueva lista diferente a la contenida en words. Inserta la palabra con long>6 en la pos 0\n",
    "    if len(w) > 6:\n",
    "        words.insert(0, w)\n",
    "\n",
    "words"
   ]
  },
  {
   "cell_type": "code",
   "execution_count": 9,
   "metadata": {},
   "outputs": [
    {
     "data": {
      "text/plain": [
       "[1, 4, 9, 16]"
      ]
     },
     "execution_count": 9,
     "metadata": {},
     "output_type": "execute_result"
    }
   ],
   "source": [
    "# Ejercicio 1\n",
    "\n",
    "def list2(x):\n",
    "    result=[]\n",
    "    for w in x:\n",
    "        result.append(w**2)\n",
    "    return result\n",
    "\n",
    "list2([1, 2, 3, 4])\n",
    "    "
   ]
  },
  {
   "cell_type": "code",
   "execution_count": 10,
   "metadata": {},
   "outputs": [
    {
     "data": {
      "text/plain": [
       "[4, 5, 7]"
      ]
     },
     "execution_count": 10,
     "metadata": {},
     "output_type": "execute_result"
    }
   ],
   "source": [
    "# Ejercicio 2\n",
    "\n",
    "def stringsLength(x):\n",
    "    longitud=[]\n",
    "    for i in x:\n",
    "        longitud.append(len(i))\n",
    "    return longitud\n",
    "\n",
    "stringsLength([\"gato\", \"perro\", \"caballo\"])"
   ]
  },
  {
   "cell_type": "code",
   "execution_count": 11,
   "metadata": {},
   "outputs": [
    {
     "data": {
      "text/plain": [
       "['a', 'b', 'c', 1, 2, 3]"
      ]
     },
     "execution_count": 11,
     "metadata": {},
     "output_type": "execute_result"
    }
   ],
   "source": [
    "# Ejercicio 3\n",
    "\n",
    "def listExpand(x):\n",
    "    newlist=[]\n",
    "    for i in x:\n",
    "        if not isinstance(i, list):\n",
    "            newlist.append(i)\n",
    "        else:\n",
    "            newlist = newlist+ listExpand(i)\n",
    "    return newlist\n",
    "\n",
    "listExpand([['a', ['b', 'c']], [1, 2, 3]])\n",
    "        "
   ]
  },
  {
   "cell_type": "code",
   "execution_count": 12,
   "metadata": {
    "scrolled": true
   },
   "outputs": [
    {
     "data": {
      "text/plain": [
       "['Gato', 'Perro', 'Caballo']"
      ]
     },
     "execution_count": 12,
     "metadata": {},
     "output_type": "execute_result"
    }
   ],
   "source": [
    "# Ejercicio 4\n",
    "\n",
    "def listUpper(x):\n",
    "    result=[]\n",
    "    for i in x:\n",
    "        result.append(i.capitalize())\n",
    "    return result\n",
    "\n",
    "listUpper([\"gato\", \"perro\", \"caballo\"])\n",
    "    "
   ]
  },
  {
   "cell_type": "code",
   "execution_count": 13,
   "metadata": {},
   "outputs": [
    {
     "data": {
      "text/plain": [
       "[[2], [3]]"
      ]
     },
     "execution_count": 13,
     "metadata": {},
     "output_type": "execute_result"
    }
   ],
   "source": [
    "# Ejercicio 5\n",
    "def listFilter(f, x):\n",
    "    result=[]\n",
    "    for i in x:\n",
    "        if f(i) is True:\n",
    "            result.append(i)\n",
    "    return result\n",
    "\n",
    "listFilter(lambda a: a>4, [1,2,3,4,6,8,9])\n",
    "listFilter(lambda a: isinstance(a,list), [1,2,3,4,6,8,9])\n",
    "listFilter(lambda a: isinstance(a,list), [1,[2],[3],1])"
   ]
  },
  {
   "cell_type": "code",
   "execution_count": 14,
   "metadata": {},
   "outputs": [
    {
     "name": "stdout",
     "output_type": "stream",
     "text": [
      "[0, 1]\n",
      "[0, 1, 2, 3, 4]\n"
     ]
    }
   ],
   "source": [
    "# Ejercicio 6\n",
    "def sequence(n):\n",
    "    result=list(range(n))\n",
    "    return result\n",
    "\n",
    "print(sequence(2))\n",
    "print(sequence(5))\n",
    "    "
   ]
  },
  {
   "cell_type": "code",
   "execution_count": 15,
   "metadata": {},
   "outputs": [
    {
     "data": {
      "text/plain": [
       "[4, 5, 7]"
      ]
     },
     "execution_count": 15,
     "metadata": {},
     "output_type": "execute_result"
    }
   ],
   "source": [
    "# Ejercicio 7\n",
    "\n",
    "def stringsLength(x):\n",
    "    longitud=[]\n",
    "    n=0\n",
    "    len_x=len(x)\n",
    "    while n < len_x:\n",
    "        longitud.append(len(x[n]))\n",
    "        n=n+1\n",
    "    return longitud\n",
    "\n",
    "stringsLength([\"gato\", \"perro\", \"caballo\"])"
   ]
  },
  {
   "cell_type": "code",
   "execution_count": 18,
   "metadata": {},
   "outputs": [
    {
     "data": {
      "text/plain": [
       "[0, 1, 4, 9]"
      ]
     },
     "execution_count": 18,
     "metadata": {},
     "output_type": "execute_result"
    }
   ],
   "source": [
    "# Ejercicio 8\n",
    "\n",
    "def list2(x):\n",
    "    result=[]\n",
    "    w=0\n",
    "    while w < len(x):\n",
    "        result.append(w**2)\n",
    "        w= w+ 1\n",
    "    return result\n",
    "\n",
    "list2([1, 2, 3, 4])"
   ]
  },
  {
   "cell_type": "code",
   "execution_count": 19,
   "metadata": {},
   "outputs": [
    {
     "data": {
      "text/plain": [
       "['Gato', 'Perro', 'Caballo']"
      ]
     },
     "execution_count": 19,
     "metadata": {},
     "output_type": "execute_result"
    }
   ],
   "source": [
    "# Ejercicio 9\n",
    "\n",
    "def listUpper(x):\n",
    "    result=[]\n",
    "    i=0\n",
    "    while i < len(x):\n",
    "        result.append(x[i].capitalize())\n",
    "        i=i+1\n",
    "    return result\n",
    "\n",
    "listUpper([\"gato\", \"perro\", \"caballo\"])"
   ]
  },
  {
   "cell_type": "code",
   "execution_count": null,
   "metadata": {},
   "outputs": [],
   "source": []
  },
  {
   "cell_type": "code",
   "execution_count": null,
   "metadata": {},
   "outputs": [],
   "source": []
  }
 ],
 "metadata": {
  "kernelspec": {
   "display_name": "Python 3",
   "language": "python",
   "name": "python3"
  },
  "language_info": {
   "codemirror_mode": {
    "name": "ipython",
    "version": 3
   },
   "file_extension": ".py",
   "mimetype": "text/x-python",
   "name": "python",
   "nbconvert_exporter": "python",
   "pygments_lexer": "ipython3",
   "version": "3.6.5"
  }
 },
 "nbformat": 4,
 "nbformat_minor": 2
}
