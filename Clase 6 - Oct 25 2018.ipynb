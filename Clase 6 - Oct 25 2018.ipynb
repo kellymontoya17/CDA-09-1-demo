{
 "cells": [
  {
   "cell_type": "code",
   "execution_count": 1,
   "metadata": {},
   "outputs": [],
   "source": [
    "# Ejercicio 1"
   ]
  },
  {
   "cell_type": "code",
   "execution_count": 21,
   "metadata": {},
   "outputs": [],
   "source": [
    "def csv2sql(x):\n",
    "    archivo_csv=open(x,'r').read()\n",
    "    archivo_csv=archivo_csv.split('\\n')\n",
    "   \n",
    "    encabezado=archivo_csv[0]\n",
    "    cuerpo=archivo_csv[1:]\n",
    "    encabezado='(' + encabezado.replace(';',',') + ')'\n",
    "    \n",
    "    cuerpo=['(\"' + y.replace(';','\",\"') + '\")' for y in cuerpo]\n",
    "    cuerpo='    '+',\\n    '.join(cuerpo)+';'\n",
    "    \n",
    "    with open('ejercicio1.txt','w') as f:\n",
    "        f.write('INSERT INTO table1 ' + encabezado +' VALUES\\n')\n",
    "        f.write(cuerpo)  "
   ]
  },
  {
   "cell_type": "code",
   "execution_count": 5,
   "metadata": {},
   "outputs": [
    {
     "name": "stdout",
     "output_type": "stream",
     "text": [
      "Writing datos.csv\n"
     ]
    }
   ],
   "source": [
    "%%writefile datos.csv\n",
    "\n",
    "nombre;pais;telefono\n",
    "Mcdonald, Bertha V.;Tonga;16590927 3665\n",
    "Gay, Quynn Y.;Côte D'Ivoire (Ivory Coast);16230713 0019\n",
    "Hartman, Samson S.;Turkey;16260322 7477\n",
    "Mckay, Brennan Z.;Åland Islands;16941114 8308\n",
    "Daugherty, Ann H.;Venezuela;16180422 9555\n",
    "Justice, George F.;United Arab Emirates;16630629 5806\n",
    "Bailey, Jacqueline S.;Timor-Leste;16390230 5097\n",
    "Sears, Sawyer X.;Montserrat;16510427 2249\n",
    "Townsend, Stephen K.;Pitcairn Islands;16570616 8084\n",
    "Barrett, Howard L.;Uzbekistan;16000221 2991\n",
    "Kim, Xanthus P.;New Caledonia;16191009 2806\n",
    "Hurst, Coby M.;Montenegro;16740102 8910"
   ]
  },
  {
   "cell_type": "code",
   "execution_count": 22,
   "metadata": {},
   "outputs": [],
   "source": [
    "csv2sql('datos.csv')"
   ]
  },
  {
   "cell_type": "code",
   "execution_count": 24,
   "metadata": {},
   "outputs": [
    {
     "name": "stdout",
     "output_type": "stream",
     "text": [
      "INSERT INTO table1(nombre,pais,telefono)VALUES\n",
      "    (\"Mcdonald, Bertha V.\",\"Tonga\",\"16590927 3665\"),\n",
      "    (\"Gay, Quynn Y.\",\"CÃ´te D'Ivoire (Ivory Coast)\",\"16230713 0019\"),\n",
      "    (\"Hartman, Samson S.\",\"Turkey\",\"16260322 7477\"),\n",
      "    (\"Mckay, Brennan Z.\",\"Ã…land Islands\",\"16941114 8308\"),\n",
      "    (\"Daugherty, Ann H.\",\"Venezuela\",\"16180422 9555\"),\n",
      "    (\"Justice, George F.\",\"United Arab Emirates\",\"16630629 5806\"),\n",
      "    (\"Bailey, Jacqueline S.\",\"Timor-Leste\",\"16390230 5097\"),\n",
      "    (\"Sears, Sawyer X.\",\"Montserrat\",\"16510427 2249\"),\n",
      "    (\"Townsend, Stephen K.\",\"Pitcairn Islands\",\"16570616 8084\"),\n",
      "    (\"Barrett, Howard L.\",\"Uzbekistan\",\"16000221 2991\"),\n",
      "    (\"Kim, Xanthus P.\",\"New Caledonia\",\"16191009 2806\"),\n",
      "    (\"Hurst, Coby M.\",\"Montenegro\",\"16740102 8910\");\n"
     ]
    }
   ],
   "source": [
    "!type ejercicio1.txt"
   ]
  },
  {
   "cell_type": "code",
   "execution_count": 25,
   "metadata": {},
   "outputs": [],
   "source": [
    "#Ejercicio 2"
   ]
  },
  {
   "cell_type": "code",
   "execution_count": 81,
   "metadata": {},
   "outputs": [],
   "source": [
    "def csv2html(infile,outfile):\n",
    "    archivo_csv=open(infile,'r').read()\n",
    "    archivo_csv=archivo_csv.split('\\n')\n",
    "    archivo_csv=[x.split(';') for x in archivo_csv] \n",
    "    \n",
    "    encabezado='<table cellpadding=\"1\" cellspacing=\"1\">\\n'\n",
    "    cuerpo=[]\n",
    "    \n",
    "    cuerpo.append('<tr>')\n",
    "    cuerpo.append('    <th>' + archivo_csv[0][0] + '</th>')\n",
    "    cuerpo.append('    <th>' + archivo_csv[0][1] + '</th>')\n",
    "    cuerpo.append('    <th>' + archivo_csv[0][2] + '</th>')\n",
    "    \n",
    "    for row in archivo_csv[1:]:\n",
    "        cuerpo.append('<tr>')\n",
    "        cuerpo.append('    <td>' + row[0] + '</td>')\n",
    "        cuerpo.append('    <td>' + row[1] + '</td>')\n",
    "        cuerpo.append('    <td>' + row[2] + '</td>')\n",
    "        cuerpo.append('</tr>')\n",
    "    \n",
    "    cuerpo='\\n'.join(cuerpo)\n",
    "    \n",
    "    with open(outfile,'w') as f:\n",
    "        f.write(encabezado + cuerpo + '\\n' + '</table>')"
   ]
  },
  {
   "cell_type": "code",
   "execution_count": 82,
   "metadata": {},
   "outputs": [],
   "source": [
    "csv2html(infile='datos.csv',outfile='ejercicio2.txt')"
   ]
  },
  {
   "cell_type": "code",
   "execution_count": 83,
   "metadata": {},
   "outputs": [
    {
     "name": "stdout",
     "output_type": "stream",
     "text": [
      "<table cellpadding=\"1\" cellspacing=\"1\">\n",
      "<tr>\n",
      "    <th>nombre</th>\n",
      "    <th>pais</th>\n",
      "    <th>telefono</th>\n",
      "<tr>\n",
      "    <td>Mcdonald, Bertha V.</td>\n",
      "    <td>Tonga</td>\n",
      "    <td>16590927 3665</td>\n",
      "</tr>\n",
      "<tr>\n",
      "    <td>Gay, Quynn Y.</td>\n",
      "    <td>CÃ´te D'Ivoire (Ivory Coast)</td>\n",
      "    <td>16230713 0019</td>\n",
      "</tr>\n",
      "<tr>\n",
      "    <td>Hartman, Samson S.</td>\n",
      "    <td>Turkey</td>\n",
      "    <td>16260322 7477</td>\n",
      "</tr>\n",
      "<tr>\n",
      "    <td>Mckay, Brennan Z.</td>\n",
      "    <td>Ã…land Islands</td>\n",
      "    <td>16941114 8308</td>\n",
      "</tr>\n",
      "<tr>\n",
      "    <td>Daugherty, Ann H.</td>\n",
      "    <td>Venezuela</td>\n",
      "    <td>16180422 9555</td>\n",
      "</tr>\n",
      "<tr>\n",
      "    <td>Justice, George F.</td>\n",
      "    <td>United Arab Emirates</td>\n",
      "    <td>16630629 5806</td>\n",
      "</tr>\n",
      "<tr>\n",
      "    <td>Bailey, Jacqueline S.</td>\n",
      "    <td>Timor-Leste</td>\n",
      "    <td>16390230 5097</td>\n",
      "</tr>\n",
      "<tr>\n",
      "    <td>Sears, Sawyer X.</td>\n",
      "    <td>Montserrat</td>\n",
      "    <td>16510427 2249</td>\n",
      "</tr>\n",
      "<tr>\n",
      "    <td>Townsend, Stephen K.</td>\n",
      "    <td>Pitcairn Islands</td>\n",
      "    <td>16570616 8084</td>\n",
      "</tr>\n",
      "<tr>\n",
      "    <td>Barrett, Howard L.</td>\n",
      "    <td>Uzbekistan</td>\n",
      "    <td>16000221 2991</td>\n",
      "</tr>\n",
      "<tr>\n",
      "    <td>Kim, Xanthus P.</td>\n",
      "    <td>New Caledonia</td>\n",
      "    <td>16191009 2806</td>\n",
      "</tr>\n",
      "<tr>\n",
      "    <td>Hurst, Coby M.</td>\n",
      "    <td>Montenegro</td>\n",
      "    <td>16740102 8910</td>\n",
      "</tr>\n",
      "</table>\n"
     ]
    }
   ],
   "source": [
    "!type ejercicio2.txt"
   ]
  },
  {
   "cell_type": "code",
   "execution_count": 42,
   "metadata": {},
   "outputs": [],
   "source": [
    "#Ejercicio 3"
   ]
  },
  {
   "cell_type": "code",
   "execution_count": 55,
   "metadata": {},
   "outputs": [
    {
     "name": "stdout",
     "output_type": "stream",
     "text": [
      "Overwriting datoshtml.html\n"
     ]
    }
   ],
   "source": [
    "%%writefile datoshtml.html\n",
    "<table cellpadding=\"1\" cellspacing=\"1\">\n",
    "<tr>\n",
    "    <th>nombre</th>\n",
    "    <th>pais</th>\n",
    "    <th>telefono</th>\n",
    "</tr>\n",
    "<tr>\n",
    "    <td>Bowman, Baker A.</td>\n",
    "    <td>Kazakhstan</td>\n",
    "    <td>16581202 2076</td>\n",
    "</tr>\n",
    "<tr>\n",
    "    <td>Malone, Jermaine G.</td>\n",
    "    <td>Myanmar</td>\n",
    "    <td>16370203 0648</td>\n",
    "</tr>\n",
    "<tr>\n",
    "    <td>Mejia, Trevor H.</td>\n",
    "    <td>Saint Martin</td>\n",
    "    <td>16900922 1780</td>\n",
    "</tr>\n",
    "<tr>\n",
    "    <td>Jarvis, Christine U.</td>\n",
    "    <td>Greenland</td>\n",
    "    <td>16401003 3258</td>\n",
    "</tr>\n",
    "<tr>\n",
    "    <td>Mccullough, Blaze W.</td>\n",
    "    <td>United Arab Emirates</td>\n",
    "    <td>16890809 9644</td>\n",
    "</tr>\n",
    "</table>"
   ]
  },
  {
   "cell_type": "code",
   "execution_count": 137,
   "metadata": {},
   "outputs": [],
   "source": [
    "def html2csv(infile,outfile):\n",
    "    archivo=open(infile,'r').read()\n",
    "    archivo=archivo.split('\\n')\n",
    "    archivo=archivo[1:]\n",
    "    archivo=archivo[:-1]\n",
    "\n",
    "    archivo=''.join(archivo)\n",
    "    archivo=archivo.replace('<tr>','')\n",
    "    archivo=archivo.replace('<th>','')\n",
    "    archivo=archivo.replace('<td>','')\n",
    "    archivo=archivo.replace('</th>',',')\n",
    "    archivo=archivo.replace('</td>',',')\n",
    "    archivo=archivo.replace(' ','')\n",
    "    archivo=archivo.replace('\\n','')\n",
    "    archivo=archivo.replace('</tr>','\\n')\n",
    "\n",
    "    archivo=archivo.split('\\n')\n",
    "    archivo=archivo[:-1]\n",
    "\n",
    "    archivo=[x[:-1] for x in archivo]\n",
    "    archivo='\\n'.join(archivo)\n",
    "\n",
    "    with open(outfile,'w') as f:\n",
    "        f.write(archivo)"
   ]
  },
  {
   "cell_type": "code",
   "execution_count": 138,
   "metadata": {},
   "outputs": [],
   "source": [
    "html2csv(infile=\"datoshtml.html\",outfile='ejercicio3.csv')"
   ]
  },
  {
   "cell_type": "code",
   "execution_count": null,
   "metadata": {},
   "outputs": [],
   "source": []
  }
 ],
 "metadata": {
  "kernelspec": {
   "display_name": "Python 3",
   "language": "python",
   "name": "python3"
  },
  "language_info": {
   "codemirror_mode": {
    "name": "ipython",
    "version": 3
   },
   "file_extension": ".py",
   "mimetype": "text/x-python",
   "name": "python",
   "nbconvert_exporter": "python",
   "pygments_lexer": "ipython3",
   "version": "3.6.5"
  }
 },
 "nbformat": 4,
 "nbformat_minor": 2
}
